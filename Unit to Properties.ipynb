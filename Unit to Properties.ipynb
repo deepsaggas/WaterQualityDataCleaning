{
 "cells": [
  {
   "cell_type": "code",
   "execution_count": 17,
   "metadata": {
    "collapsed": true
   },
   "outputs": [],
   "source": [
    "import pandas as pd\n",
    "import pandas_profiling\n",
    "import numpy as np\n",
    "import time\n",
    "import glob\n",
    "import csv\n",
    "import operator"
   ]
  },
  {
   "cell_type": "markdown",
   "metadata": {},
   "source": [
    "## Print 10 characterstic names for units with highest freq across all dataset"
   ]
  },
  {
   "cell_type": "code",
   "execution_count": 19,
   "metadata": {
    "collapsed": false
   },
   "outputs": [],
   "source": [
    "df = pd.read_csv(\"group_histogram.csv\", encoding='UTF-8')\n",
    "#CharacteristicName\n",
    "#ResultMeasure/MeasureUnitCode\n",
    "#Frequency\n",
    "dict = {}\n",
    "for (idx, row) in df.iterrows():\n",
    "    propertyName = row.loc['CharacteristicName'].strip()\n",
    "    unit = str(row.loc['ResultMeasure/MeasureUnitCode']).strip()\n",
    "    freq = row.loc['Frequency']\n",
    "    if unit in dict:\n",
    "        if propertyName not in dict[unit]:\n",
    "            dict[unit][propertyName] = 0\n",
    "    else:\n",
    "        dict[unit] = {}\n",
    "        dict[unit][propertyName] = 0\n",
    "    dict[unit][propertyName] = dict[unit][propertyName] + freq"
   ]
  },
  {
   "cell_type": "code",
   "execution_count": 20,
   "metadata": {
    "collapsed": true
   },
   "outputs": [],
   "source": [
    "f = csv.writer(open(\"unit_to_properties.csv\", \"w\"))\n",
    "f.writerow(['ResultMeasure/MeasureUnitCode', 'CharacteristicNames'])\n",
    "for unit in dict:\n",
    "    x = dict[unit];\n",
    "    sorted_x = sorted(x.items(), key=operator.itemgetter(1), reverse=True)\n",
    "    f.writerow([unit]+sorted_x[0:10])"
   ]
  }
 ],
 "metadata": {
  "kernelspec": {
   "display_name": "Python 3",
   "language": "python",
   "name": "python3"
  },
  "language_info": {
   "codemirror_mode": {
    "name": "ipython",
    "version": 3
   },
   "file_extension": ".py",
   "mimetype": "text/x-python",
   "name": "python",
   "nbconvert_exporter": "python",
   "pygments_lexer": "ipython3",
   "version": "3.6.0"
  }
 },
 "nbformat": 4,
 "nbformat_minor": 2
}
