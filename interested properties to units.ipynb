{
 "cells": [
  {
   "cell_type": "code",
   "execution_count": 1,
   "metadata": {
    "collapsed": true
   },
   "outputs": [],
   "source": [
    "import pandas as pd\n",
    "import pandas_profiling\n",
    "import numpy as np\n",
    "import time\n",
    "import glob\n",
    "import csv\n",
    "import operator"
   ]
  },
  {
   "cell_type": "markdown",
   "metadata": {},
   "source": [
    "## Calculates frequency of units grouped by properties(but only for interesting properties)"
   ]
  },
  {
   "cell_type": "code",
   "execution_count": 2,
   "metadata": {
    "collapsed": false
   },
   "outputs": [],
   "source": [
    "# Characteristic_Names_Map_Match contains mapping of columns which are synonyms of each other\n",
    "df = pd.read_csv(\"Characteristic_Names_Map_Match.csv\", encoding='UTF-8')\n",
    "# Create a map for original propertyName to normalized property Name\n",
    "dict = {}\n",
    "for (idx,  row) in df.iterrows():\n",
    "    property1 = row.loc['CharacteristicName_1'].strip()\n",
    "    property2 = row.loc['CharacteristicName_2'].strip()\n",
    "    dict[property1] = property2;\n",
    "    dict[property2] = property2;\n",
    "# This file has a column which contains names of properties we are interested in.\n",
    "df = pd.read_csv(\"Interested_Variables.csv\", encoding='UTF-8')\n",
    "for (idx,  row) in df.iterrows():\n",
    "    property1 = row.loc['CharacteristicName'].strip()\n",
    "    if(property1 not in dict):\n",
    "        dict[property1] = property1;"
   ]
  },
  {
   "cell_type": "code",
   "execution_count": 4,
   "metadata": {
    "collapsed": false
   },
   "outputs": [],
   "source": [
    "df = pd.read_csv(\"group_histogram_v2.csv\", encoding='UTF-8')\n",
    "f = csv.writer(open(\"interested_property_to_unit.csv\", \"w\"))\n",
    "f.writerow(['CharacteristicName', 'ResultMeasure/MeasureUnitCode' , \"Frequency\"])\n",
    "merged_readings = {};\n",
    "#Merges freq stats of different properties as now two different properties might point to same property\n",
    "for (idx, row) in df.iterrows():\n",
    "    propertyName = row.loc['CharacteristicName'].strip()\n",
    "    if(propertyName not in dict):\n",
    "        continue;\n",
    "    propertyName = dict[propertyName];\n",
    "    unit = str(row.loc['ResultMeasure/MeasureUnitCode']).strip()\n",
    "    freq = row.loc['Frequency']\n",
    "    if(propertyName not in merged_readings):\n",
    "        merged_readings[propertyName] = {}\n",
    "    if(unit not in merged_readings[propertyName]):\n",
    "        merged_readings[propertyName][unit] = 0\n",
    "    merged_readings[propertyName][unit] = merged_readings[propertyName][unit] + freq;\n",
    "#Prints out new normalized and merged stats to a file\n",
    "for propertyName in merged_readings:\n",
    "    for unit in merged_readings[propertyName]:\n",
    "        f.writerow([propertyName, unit, merged_readings[propertyName][unit]])"
   ]
  }
 ],
 "metadata": {
  "kernelspec": {
   "display_name": "Python 3",
   "language": "python",
   "name": "python3"
  },
  "language_info": {
   "codemirror_mode": {
    "name": "ipython",
    "version": 3
   },
   "file_extension": ".py",
   "mimetype": "text/x-python",
   "name": "python",
   "nbconvert_exporter": "python",
   "pygments_lexer": "ipython3",
   "version": "3.6.0"
  }
 },
 "nbformat": 4,
 "nbformat_minor": 2
}
