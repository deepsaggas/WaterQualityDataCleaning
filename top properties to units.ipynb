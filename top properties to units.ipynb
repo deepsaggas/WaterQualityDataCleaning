{
 "cells": [
  {
   "cell_type": "code",
   "execution_count": 12,
   "metadata": {
    "collapsed": true
   },
   "outputs": [],
   "source": [
    "import pandas as pd\n",
    "import pandas_profiling\n",
    "import numpy as np\n",
    "import time\n",
    "import glob\n",
    "import csv\n",
    "import operator"
   ]
  },
  {
   "cell_type": "markdown",
   "metadata": {},
   "source": [
    "## Prints units used by top(freq of property) 30-40 properties or CharacteristicName groupedBy CharacteristicName"
   ]
  },
  {
   "cell_type": "code",
   "execution_count": 13,
   "metadata": {
    "collapsed": true
   },
   "outputs": [],
   "source": [
    "df = pd.read_csv(\"group_histogram.csv\", encoding='UTF-8')\n",
    "#CharacteristicName\n",
    "#ResultMeasure/MeasureUnitCode\n",
    "#Frequency\n",
    "dict = {}\n",
    "for (idx, row) in df.iterrows():\n",
    "    propertyName = row.loc['CharacteristicName'].strip()\n",
    "    unit = str(row.loc['ResultMeasure/MeasureUnitCode']).strip()\n",
    "    freq = row.loc['Frequency']\n",
    "    if propertyName not in dict:\n",
    "            dict[propertyName] = 0\n",
    "    dict[propertyName] = dict[propertyName] + freq"
   ]
  },
  {
   "cell_type": "code",
   "execution_count": 14,
   "metadata": {
    "collapsed": true
   },
   "outputs": [],
   "source": [
    "sorted_x = sorted(dict.items(), key=operator.itemgetter(1), reverse=True)"
   ]
  },
  {
   "cell_type": "code",
   "execution_count": 15,
   "metadata": {
    "collapsed": false
   },
   "outputs": [
    {
     "name": "stdout",
     "output_type": "stream",
     "text": [
      "['Temperature, water', 'Dissolved oxygen (DO)', 'pH', 'Specific conductance', 'Depth, Secchi disk depth', 'Water appearance (text)', 'Lake physical appearance (choice list)', 'Lake recreational suitability (choice list)', 'Dissolved oxygen saturation', 'Chlorophyll a (probe relative fluorescence)', 'Phosphorus', 'Conductivity', 'Length', 'Irradiance (Seabird)', 'Beam Attenuation (Seabird)', 'Transmittance, Horizontal', 'Split Count', 'Kjeldahl nitrogen', 'Chlorophyll a, corrected for pheophytin', 'Inorganic nitrogen (nitrate and nitrite)', 'Sex (choice list)', 'Orthophosphate', 'Turbidity', 'Oxygen', 'Hydrogen ion', 'Width', 'Phosphate-phosphorus', 'Alkalinity, total', 'Chloride', 'Count']\n"
     ]
    }
   ],
   "source": [
    "top = sorted_x[0:30]\n",
    "allowedCharacteristicNames = [];\n",
    "for (x,y) in top:\n",
    "    allowedCharacteristicNames.append(x)\n",
    "print(allowedCharacteristicNames)"
   ]
  },
  {
   "cell_type": "code",
   "execution_count": 16,
   "metadata": {
    "collapsed": false
   },
   "outputs": [],
   "source": [
    "f = csv.writer(open(\"top_property_to_unit.csv\", \"w\"))\n",
    "f.writerow(['CharacteristicName', 'ResultMeasure/MeasureUnitCode' , \"Frequency\"])\n",
    "for (idx, row) in df.iterrows():\n",
    "    propertyName = row.loc['CharacteristicName'].strip()\n",
    "    unit = str(row.loc['ResultMeasure/MeasureUnitCode']).strip()\n",
    "    freq = row.loc['Frequency']\n",
    "    if(propertyName in allowedCharacteristicNames):\n",
    "        f.writerow([propertyName, unit, freq])"
   ]
  }
 ],
 "metadata": {
  "kernelspec": {
   "display_name": "Python 3",
   "language": "python",
   "name": "python3"
  },
  "language_info": {
   "codemirror_mode": {
    "name": "ipython",
    "version": 3
   },
   "file_extension": ".py",
   "mimetype": "text/x-python",
   "name": "python",
   "nbconvert_exporter": "python",
   "pygments_lexer": "ipython3",
   "version": "3.6.0"
  }
 },
 "nbformat": 4,
 "nbformat_minor": 2
}
